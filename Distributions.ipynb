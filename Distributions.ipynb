{
 "cells": [
  {
   "cell_type": "code",
   "execution_count": null,
   "metadata": {},
   "outputs": [],
   "source": [
    "%matplotlib inline\n",
    "import numpy as np\n",
    "import matplotlib.pyplot as plt\n",
    "from itertools import cycle\n",
    "from stats import distributions\n",
    "from stats.measures import *\n",
    "from IPython.display import display, Markdown, Latex"
   ]
  },
  {
   "cell_type": "code",
   "execution_count": null,
   "metadata": {},
   "outputs": [],
   "source": [
    "def evaluate(distr_name, distribution, m, sizes):\n",
    "    display(Markdown('# ' + distr_name))\n",
    "    for h in sizes:\n",
    "        display(Markdown('## {:3d} samples'.format(h)))\n",
    "        measures = {'mean': [], 'med': [], 'zr': [], 'ztr': [], 'zq': []}\n",
    "\n",
    "        shoot = np.random.randint(0, m)\n",
    "        cycol = cycle('kbgrcm')\n",
    "        for i in range(1, m):\n",
    "            samples = distribution(size=h)\n",
    "            samples.sort()\n",
    "            measures['mean'].append(np.sum(samples) / len(samples))\n",
    "            measures['med'].append(np.median(samples))\n",
    "            measures['zr'].append(zr(samples))\n",
    "            measures['ztr'].append(ztr(samples))\n",
    "            measures['zq'].append(zq(samples))\n",
    "            if shoot == i:\n",
    "                fig1, (ax1, ax2) = plt.subplots(2, 1, sharex='all')\n",
    "                n, bins, patches = ax1.hist(samples, histtype='bar', bins=h, facecolor=next(cycol),\n",
    "                                            alpha=0.75)\n",
    "                plt.title('{} - {:d} samples'.format(distr_name, h))\n",
    "                plt.tight_layout()\n",
    "                ax1.grid(True)\n",
    "                ax2.grid(True)\n",
    "\n",
    "                for (name, measure) in measures.items():\n",
    "                    ax1.axvline(x=measure[-1], label='{:<5} {:.4f}'.format(name, measure[-1]), c=next(cycol))\n",
    "                ax1.legend()\n",
    "\n",
    "                ax2.boxplot(samples, vert=False)\n",
    "                #plt.savefig('out/{}_{:d}.png'.format(distr_name, h), bbox_inches='tight')\n",
    "                plt.show()\n",
    "\n",
    "        print(r'{:>10}: {:>10}: {:>10}'.format('Measure', 'mean', 'variance'))\n",
    "        for (name, measure) in measures.items():\n",
    "            mean = np.sum(measure) / len(measure)\n",
    "            variance = np.sum([x ** 2 for x in measure]) / len(measure) - (np.sum(measure) / len(measure)) ** 2\n",
    "            print(r'{:>10}: {: 10f}: {: 10f}'.format(name, mean, variance))\n",
    "    display(Markdown(\"***\"))"
   ]
  },
  {
   "cell_type": "code",
   "execution_count": null,
   "metadata": {
    "scrolled": false
   },
   "outputs": [],
   "source": [
    "M = 1000\n",
    "H = (20, 50, 100)\n",
    "np.random.seed(1658090)\n",
    "\n",
    "evaluate('Standart normal', np.random.normal, M, H)\n",
    "evaluate('Uniform', (lambda size: np.random.uniform(-.5, .5, size)), M, H)\n",
    "evaluate('Laplace', np.random.laplace, M, H)\n",
    "evaluate('Cauchy', np.random.standard_cauchy, M, H)\n",
    "contaminated = distributions.Contaminated(.1, np.random.standard_cauchy, np.random.normal)\n",
    "evaluate('CCN', contaminated, M, H)"
   ]
  },
  {
   "cell_type": "code",
   "execution_count": null,
   "metadata": {},
   "outputs": [],
   "source": []
  },
  {
   "cell_type": "code",
   "execution_count": null,
   "metadata": {},
   "outputs": [],
   "source": []
  }
 ],
 "metadata": {
  "kernelspec": {
   "display_name": "Python 3",
   "language": "python",
   "name": "python3"
  }
 },
 "nbformat": 4,
 "nbformat_minor": 2
}
