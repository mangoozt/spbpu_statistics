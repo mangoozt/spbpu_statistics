{
 "cells": [
  {
   "cell_type": "code",
   "execution_count": null,
   "metadata": {},
   "outputs": [],
   "source": [
    "% matplotlib inline\n",
    "import numpy as np\n",
    "import matplotlib.pyplot as plt\n",
    "from itertools import cycle\n",
    "from IPython.display import display, Markdown, Latex"
   ]
  },
  {
   "cell_type": "code",
   "execution_count": null,
   "metadata": {},
   "outputs": [],
   "source": [
    "def zr(x):\n",
    "    # x-sorted\n",
    "    return (x[0] + x[-1]) / 2\n",
    "\n",
    "\n",
    "def ztr(x):\n",
    "    a = 0.05\n",
    "    n = len(x)\n",
    "    r = round(a * n)\n",
    "    return np.sum(x[r:n - r - 1]) / (n - 2 * r)\n",
    "\n",
    "\n",
    "def zq(x):\n",
    "    n = len(x)\n",
    "    if n // 4 == 0:\n",
    "        lq = x[-1]\n",
    "    else:\n",
    "        lq = x[round(n / 4)]\n",
    "    if (3 * n) // 4 == 0:\n",
    "        uq = x[3 * n / 4]\n",
    "    else:\n",
    "        uq = x[round(3 * n / 4)]\n",
    "\n",
    "    return (lq + uq) / 2\n",
    "\n",
    "\n",
    "def contaminated(size):\n",
    "    samples=[]\n",
    "    for i in range(size):\n",
    "        if 0.9<np.random.uniform():\n",
    "            samples.append(np.random.standard_cauchy())\n",
    "        else:\n",
    "            samples.append(np.random.normal())\n",
    "    return samples\n",
    "\n",
    "\n",
    "\n",
    "def evaluate(distr_name, distribution, m, sizes):\n",
    "    display(Markdown('# '+distr_name))\n",
    "    for h in sizes:\n",
    "        display(Markdown('## {:3d} samples'.format(h)))\n",
    "        measures = {'mean': [], 'med': [], 'zr': [], 'ztr': [], 'zq': []}\n",
    "        \n",
    "        shoot = np.random.randint(0, m)\n",
    "        cycol = cycle('kbgrcm')\n",
    "        for i in range(1, m):\n",
    "            samples = distribution(size=h)\n",
    "            samples.sort()\n",
    "            measures['mean'].append(np.sum(samples) / len(samples))\n",
    "            measures['med'].append(np.median(samples))\n",
    "            measures['zr'].append(zr(samples))\n",
    "            measures['ztr'].append(ztr(samples))\n",
    "            measures['zq'].append(zq(samples))\n",
    "            if shoot == i:\n",
    "                n, bins, patches = plt.hist(samples, histtype='bar', bins=h, facecolor=next(cycol),\n",
    "                                            alpha=0.75)\n",
    "                plt.title('{} - {:d} samples'.format(distr_name, h))\n",
    "                plt.tight_layout()\n",
    "                plt.grid(True)\n",
    "\n",
    "                for (name, measure) in measures.items():\n",
    "                    plt.axvline(x=measure[-1], label='{:<5} {:.4f}'.format(name, measure[-1]), c=next(cycol))\n",
    "                plt.legend()\n",
    "                #plt.savefig('out/{}_{:d}.png'.format(distr_name, h), bbox_inches='tight')\n",
    "                plt.show()\n",
    "\n",
    "        print(r'{:>10}: {:>10}: {:>10}'.format('Measure','mean','variance'))\n",
    "        for (name, measure) in measures.items():\n",
    "            mean=np.sum(measure) / len(measure)\n",
    "            variance=np.sum([x**2 for x in measure])/len(measure)-(np.sum(measure) / len(measure))**2\n",
    "            print(r'{:>10}: {: 10f}: {: 10f}'.format(name, mean,variance))\n",
    "    display(Markdown(\"***\"))\n"
   ]
  },
  {
   "cell_type": "code",
   "execution_count": null,
   "metadata": {},
   "outputs": [],
   "source": [
    "M = 1000\n",
    "H = (20, 50, 100)\n",
    "#np.random.seed(1658090)\n",
    "\n",
    "evaluate('Standart normal', np.random.normal, M, H)\n",
    "evaluate('Uniform', (lambda size: np.random.uniform(-.5, .5, size)), M, H)\n",
    "evaluate('Laplace', np.random.laplace, M, H)\n",
    "evaluate('Cauchy', np.random.standard_cauchy, M, H)\n",
    "evaluate('CCN', contaminated, M, H)"
   ]
  },
  {
   "cell_type": "code",
   "execution_count": null,
   "metadata": {},
   "outputs": [],
   "source": []
  },
  {
   "cell_type": "code",
   "execution_count": null,
   "metadata": {},
   "outputs": [],
   "source": []
  }
 ],
 "metadata": {
  "kernelspec": {
   "display_name": "Python 3",
   "language": "python",
   "name": "python3"
  },
  "language_info": {
   "codemirror_mode": {
    "name": "ipython",
    "version": 3
   },
   "file_extension": ".py",
   "mimetype": "text/x-python",
   "name": "python",
   "nbconvert_exporter": "python",
   "pygments_lexer": "ipython3",
   "version": "3.7.0"
  }
 },
 "nbformat": 4,
 "nbformat_minor": 2
}
